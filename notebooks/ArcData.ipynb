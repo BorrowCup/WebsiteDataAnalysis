{
 "cells": [
  {
   "cell_type": "code",
   "execution_count": 2,
   "metadata": {},
   "outputs": [
    {
     "ename": "ModuleNotFoundError",
     "evalue": "No module named 'dotenv'",
     "output_type": "error",
     "traceback": [
      "\u001b[0;31m---------------------------------------------------------------------------\u001b[0m",
      "\u001b[0;31mModuleNotFoundError\u001b[0m                       Traceback (most recent call last)",
      "\u001b[0;32m<ipython-input-2-d7b1c8e53102>\u001b[0m in \u001b[0;36m<module>\u001b[0;34m\u001b[0m\n\u001b[1;32m      3\u001b[0m \u001b[0;32mfrom\u001b[0m \u001b[0mtime\u001b[0m \u001b[0;32mimport\u001b[0m \u001b[0mtime\u001b[0m\u001b[0;34m\u001b[0m\u001b[0;34m\u001b[0m\u001b[0m\n\u001b[1;32m      4\u001b[0m \u001b[0;32mimport\u001b[0m \u001b[0mnumpy\u001b[0m \u001b[0;32mas\u001b[0m \u001b[0mnp\u001b[0m\u001b[0;34m\u001b[0m\u001b[0;34m\u001b[0m\u001b[0m\n\u001b[0;32m----> 5\u001b[0;31m \u001b[0;32mfrom\u001b[0m \u001b[0mdotenv\u001b[0m \u001b[0;32mimport\u001b[0m \u001b[0mload_dotenv\u001b[0m\u001b[0;34m\u001b[0m\u001b[0;34m\u001b[0m\u001b[0m\n\u001b[0m\u001b[1;32m      6\u001b[0m \u001b[0;32mimport\u001b[0m \u001b[0mjson\u001b[0m\u001b[0;34m,\u001b[0m \u001b[0mos\u001b[0m\u001b[0;34m\u001b[0m\u001b[0;34m\u001b[0m\u001b[0m\n\u001b[1;32m      7\u001b[0m \u001b[0;32mfrom\u001b[0m \u001b[0mdatetime\u001b[0m \u001b[0;32mimport\u001b[0m \u001b[0mdatetime\u001b[0m\u001b[0;34m\u001b[0m\u001b[0;34m\u001b[0m\u001b[0m\n",
      "\u001b[0;31mModuleNotFoundError\u001b[0m: No module named 'dotenv'"
     ]
    }
   ],
   "source": [
    "from requests import get\n",
    "from pandas import DataFrame, concat, to_datetime, to_timedelta, json_normalize, notna, isna\n",
    "from time import time\n",
    "import numpy as np\n",
    "from dotenv import load_dotenv\n",
    "import json, os\n",
    "from datetime import datetime"
   ]
  },
  {
   "cell_type": "code",
   "execution_count": null,
   "metadata": {},
   "outputs": [],
   "source": [
    "fetchSaleData = True\n",
    "fetchReturnData = True\n",
    "\n",
    "lastUpdatedInDays = 1"
   ]
  },
  {
   "cell_type": "code",
   "execution_count": null,
   "metadata": {},
   "outputs": [],
   "source": [
    "# current time\n",
    "currentTime = time()\n",
    "timeToCheckAgainst = datetime.fromtimestamp(currentTime - lastUpdatedInDays*24*60*60)\n",
    "\n",
    "if not os.path.exists('../data files'):\n",
    "    os.makedirs('../data files')\n",
    "\n",
    "print('Checking for sale data...')\n",
    "if os.path.exists(\"../data files/rawSaleData.json\"):\n",
    "    saleDataTime = datetime.fromtimestamp(os.path.getmtime('../data files/rawSaleData.json'))\n",
    "    print('Found sale data from:', saleDataTime.strftime('%c'))\n",
    "    \n",
    "    # if older than 'lastUpdatedInDays' days, fetch again\n",
    "    if saleDataTime <= timeToCheckAgainst:\n",
    "        print('Locally saved data is older than {} hours!'.format(lastUpdatedInDays*24))\n",
    "        print('Have to fetch again...')\n",
    "        fetchSaleData = True\n",
    "    else:\n",
    "        print('Will be using this locally saved data...')\n",
    "        fetchSaleData = False\n",
    "else:\n",
    "    print('No local data found!')\n",
    "    print('Have to fetch again...')\n",
    "    fetchSaleData = True\n",
    "\n",
    "print('Checking for return data...')\n",
    "if os.path.exists(\"../data files/rawReturnData.json\"):\n",
    "    returnDataTime = datetime.fromtimestamp(os.path.getmtime('../data files/rawReturnData.json'))\n",
    "    print('Found return data from:', returnDataTime.strftime('%c'))\n",
    "    \n",
    "    # if older than 'lastUpdatedInDays' days, fetch again\n",
    "    if returnDataTime <= timeToCheckAgainst:\n",
    "        print('Locally saved data is older than {} hours!'.format(lastUpdatedInDays*24))\n",
    "        print('Have to fetch again...')\n",
    "        fetchReturnData = True\n",
    "    else:\n",
    "        print('Will be using this locally saved data...')\n",
    "        fetchReturnData = False\n",
    "else:\n",
    "    print('No local data found!')\n",
    "    print('Have to fetch again...')\n",
    "    fetchReturnData = True"
   ]
  },
  {
   "cell_type": "code",
   "execution_count": null,
   "metadata": {},
   "outputs": [],
   "source": [
    "load_dotenv()\n",
    "\n",
    "domain = os.getenv(\"URL\")\n",
    "\n",
    "if fetchSaleData:\n",
    "    print('Getting Sale data... Please wait!')\n",
    "    startTime = time()\n",
    "\n",
    "    # get sale data\n",
    "    response = get('https://' + domain + 'sale')\n",
    "    saleData = response.json()\n",
    "\n",
    "    print('Took', round(time() - startTime, 2), 'seconds to get Sale data.')\n",
    "    \n",
    "    # save locally for later reuse\n",
    "    with open('../data files/rawSaleData.json', 'w') as fp:\n",
    "        json.dump(saleData, fp, indent=4)\n",
    "else:\n",
    "    # use locally saved data\n",
    "    with open('../data files/rawSaleData.json', 'r') as fp:\n",
    "        saleData = json.load(fp)"
   ]
  },
  {
   "cell_type": "code",
   "execution_count": null,
   "metadata": {},
   "outputs": [],
   "source": [
    "if fetchReturnData:\n",
    "    print('Getting Return data... Please wait!')\n",
    "    startTime = time()\n",
    "\n",
    "    # get return data\n",
    "    response = get('https://' + domain + 'return')\n",
    "    returnData = response.json()\n",
    "\n",
    "    print('Took', round(time() - startTime, 2), 'seconds to get Return data.')\n",
    "    \n",
    "    # save locally for later reuse\n",
    "    with open('../data files/rawReturnData.json', 'w') as fp:\n",
    "        json.dump(returnData, fp, indent=4)\n",
    "else:\n",
    "    # use locally saved data\n",
    "    with open('../data files/rawReturnData.json', 'r') as fp:\n",
    "        returnData = json.load(fp)"
   ]
  },
  {
   "cell_type": "markdown",
   "metadata": {},
   "source": [
    "## Taking Sale Data"
   ]
  },
  {
   "cell_type": "code",
   "execution_count": null,
   "metadata": {},
   "outputs": [],
   "source": [
    "# build dataframe\n",
    "saleDF = DataFrame.from_dict(saleData, orient='columns')\n",
    "\n",
    "# drop columns\n",
    "saleDF = saleDF.drop(['scanned_at', 'scanned_at_melbourne_date_time', 'return_id'], axis=1)\n",
    "\n",
    "# rename\n",
    "saleDF = saleDF.rename(columns={\"scanned_at_melbourne_date\": \"sale_date\", \"scanned_at_melbourne_time\": \"sale_time\", \"id\": \"sale_id\"})\n",
    "\n",
    "# merging date and time, converting new column to datetime64 datatype\n",
    "saleDF['date_time_concat'] = saleDF['sale_date'] + ' ' + saleDF['sale_time']\n",
    "saleDF['date_time'] = to_datetime(saleDF['date_time_concat'], dayfirst=True)\n",
    "saleDF = saleDF.drop(['sale_date', 'sale_time', 'date_time_concat'], axis=1)\n",
    "\n",
    "# filter to get records post 22nd Jan\n",
    "saleDF = saleDF[saleDF['date_time'] >= '2020/01/22 00:00:00']\n",
    "saleDF = saleDF.sort_values(by='date_time', ascending = True).reset_index(drop=True)\n",
    "\n",
    "saleDF.head()"
   ]
  },
  {
   "cell_type": "code",
   "execution_count": null,
   "metadata": {},
   "outputs": [],
   "source": [
    "saleDF['week'] =  saleDF.date_time.dt.isocalendar().week\n",
    "saleDF.head()"
   ]
  },
  {
   "cell_type": "code",
   "execution_count": null,
   "metadata": {},
   "outputs": [],
   "source": [
    "groupDF = saleDF.groupby(by=['cup_id', 'week']).size().reset_index(name='occurrence_per_week')\n",
    "#groupDF.loc[groupDF['occurrence_per_week'] > 1, :]\n",
    "groupDF.head()"
   ]
  },
  {
   "cell_type": "code",
   "execution_count": null,
   "metadata": {},
   "outputs": [],
   "source": [
    "#groupDF.groupby(by='cup_id')['occurrence_per_week'].apply(list).reset_index(name='new')\n",
    "df = groupDF.pivot(index='cup_id', columns='week', values='occurrence_per_week').reset_index()\n",
    "df.columns.name = None\n",
    "df.head()"
   ]
  },
  {
   "cell_type": "code",
   "execution_count": null,
   "metadata": {},
   "outputs": [],
   "source": [
    "jsonObject = {}\n",
    "nodesArray = []\n",
    "linksArray = []\n",
    "\n",
    "def updateNode(flag, weekStart, weekEnd=0):\n",
    "            \n",
    "    # update node for a cup's single use in all weeks\n",
    "    if flag == 0:\n",
    "        # find the existing node\n",
    "        for index in range(len(nodesArray)):\n",
    "            node = nodesArray[index]\n",
    "            if node['week'] == weekStart:\n",
    "                nodesArray[index]['single'] += 1\n",
    "                break\n",
    "\n",
    "    # update node for a cup's use in the same week (i.e used 2, 3 or more times in that week)\n",
    "    elif flag == 1:\n",
    "        # find the existing node\n",
    "        for index in range(len(nodesArray)):\n",
    "            node = nodesArray[index]\n",
    "            if node['week'] == weekStart:\n",
    "                # if not the first time, add 1\n",
    "                if node['self'] != 0:\n",
    "                    nodesArray[index]['self'] += 1\n",
    "                    \n",
    "                # if first time, add 2\n",
    "                else:\n",
    "                    nodesArray[index]['self'] += 2\n",
    "                break\n",
    "\n",
    "    # update nodes for a cup's use in 'start' and 'end' week\n",
    "    else:\n",
    "        # find the existing nodes\n",
    "        for index in range(len(nodesArray)):\n",
    "            node = nodesArray[index]\n",
    "            if node['week'] == weekStart or node['week'] == weekEnd:\n",
    "                if 'other' in node:\n",
    "                    nodesArray[index]['other'] += 1\n",
    "                else:\n",
    "                    nodesArray[index]['other'] = 1"
   ]
  },
  {
   "cell_type": "code",
   "execution_count": 3,
   "metadata": {},
   "outputs": [],
   "source": [
    "def populateNodes(df):\n",
    "    for node in list(df.columns[1:]):\n",
    "        nodesArray.append({\n",
    "            'week': node,\n",
    "            'single': 0,\n",
    "            'self': 0,\n",
    "            'other': 0\n",
    "        })\n",
    "        \n",
    "def populateLinks(df):\n",
    "    #count = 0\n",
    "    for index, row in df.iterrows():\n",
    "        #print(row)\n",
    "        start = None\n",
    "        end = None\n",
    "        for week in list(df.columns[1:]):\n",
    "            if notna(row[week]):\n",
    "                for uses in range(0, int(row[week])):\n",
    "                    if start == None:\n",
    "                        start = week\n",
    "                    else:\n",
    "                        end = week\n",
    "\n",
    "                        # flag\n",
    "                        found = False\n",
    "\n",
    "                        # search for an existing link between start and end\n",
    "                        for index in range(len(linksArray)):\n",
    "                            link = linksArray[index]\n",
    "\n",
    "                            # if link found, update count\n",
    "                            if link['source'] == start and link['target'] == end:\n",
    "                                found = True\n",
    "                                linksArray[index]['count'] += 1\n",
    "                                break\n",
    "\n",
    "                        # if link is not found, create new link\n",
    "                        if found == False:\n",
    "                            if start != end:\n",
    "                                linksArray.append({\n",
    "                                    'source': start,\n",
    "                                    'target': end,\n",
    "                                    'count' : 1\n",
    "                                })\n",
    "                            else:\n",
    "                                linksArray.append({\n",
    "                                    'source': start,\n",
    "                                    'target': end,\n",
    "                                    'count' : 2\n",
    "                                })\n",
    "\n",
    "                        if start == end:\n",
    "                            # update node with week = start for self use denoted by flag = 1\n",
    "                            updateNode(1, start)\n",
    "                        else:\n",
    "                            # update both nodes with week = start and week = end for 'start' (in past) week use \n",
    "                            # denoted by flag = 2\n",
    "                            updateNode(2, start, end)\n",
    "\n",
    "                        start = week\n",
    "        if end == None:\n",
    "            # update node with week = start for single use denoted by flag = 0\n",
    "            updateNode(0, start)\n",
    "\n",
    "        #count += 1\n",
    "        #if count == 10:\n",
    "        #  break\n",
    "#print('nodes', nodesArray)\n",
    "#print('links', linksArray)\n",
    "#print('singleuse', singleUse)"
   ]
  },
  {
   "cell_type": "code",
   "execution_count": 4,
   "metadata": {},
   "outputs": [
    {
     "ename": "NameError",
     "evalue": "name 'df' is not defined",
     "output_type": "error",
     "traceback": [
      "\u001b[0;31m---------------------------------------------------------------------------\u001b[0m",
      "\u001b[0;31mNameError\u001b[0m                                 Traceback (most recent call last)",
      "\u001b[0;32m<ipython-input-4-9ae84a85bb1d>\u001b[0m in \u001b[0;36m<module>\u001b[0;34m\u001b[0m\n\u001b[0;32m----> 1\u001b[0;31m \u001b[0mpopulateNodes\u001b[0m\u001b[0;34m(\u001b[0m\u001b[0mdf\u001b[0m\u001b[0;34m)\u001b[0m\u001b[0;34m\u001b[0m\u001b[0;34m\u001b[0m\u001b[0m\n\u001b[0m\u001b[1;32m      2\u001b[0m \u001b[0;34m\u001b[0m\u001b[0m\n\u001b[1;32m      3\u001b[0m \u001b[0mpopulateLinks\u001b[0m\u001b[0;34m(\u001b[0m\u001b[0mdf\u001b[0m\u001b[0;34m)\u001b[0m\u001b[0;34m\u001b[0m\u001b[0;34m\u001b[0m\u001b[0m\n",
      "\u001b[0;31mNameError\u001b[0m: name 'df' is not defined"
     ]
    }
   ],
   "source": [
    "populateNodes(df)\n",
    "\n",
    "populateLinks(df)"
   ]
  },
  {
   "cell_type": "code",
   "execution_count": null,
   "metadata": {},
   "outputs": [],
   "source": [
    "# sorting in descending order so that bigger arc widths dont obscure smaller arc widths\n",
    "linksArray = sorted(linksArray, key=lambda d: (-d['count']))"
   ]
  },
  {
   "cell_type": "code",
   "execution_count": null,
   "metadata": {},
   "outputs": [],
   "source": [
    "jsonObject['nodes'] = nodesArray\n",
    "jsonObject['links'] = linksArray\n",
    "\n",
    "with open('../data files/arcSaleData.json', 'w') as fp:\n",
    "    json.dump(jsonObject, fp, indent=4)"
   ]
  },
  {
   "cell_type": "markdown",
   "metadata": {},
   "source": [
    "## Taking Return Data"
   ]
  },
  {
   "cell_type": "code",
   "execution_count": null,
   "metadata": {},
   "outputs": [],
   "source": [
    "# build dataframe\n",
    "returnDF = DataFrame.from_dict(json_normalize(returnData), orient='columns')\n",
    "\n",
    "# dropping columns \n",
    "returnDF = returnDF.drop(['scanned_at', 'bin_id', 'cafe_id', 'dishwasher_id', 'id'], axis=1)\n",
    "\n",
    "# renaming columns\n",
    "returnDF = returnDF.rename(columns={\"scanned_at_melbourne_date_time.date\": \"return_date\", \"scanned_at_melbourne_date_time.time\": \"return_time\"})\n",
    "\n",
    "# merging date and time, converting new column to datetime64 datatype\n",
    "returnDF['date_time_concat'] = returnDF['return_date'] + ' ' + returnDF['return_time']\n",
    "returnDF['date_time'] = to_datetime(returnDF['date_time_concat'], dayfirst=True)\n",
    "returnDF = returnDF.drop(['return_date', 'return_time', 'date_time_concat'], axis=1)\n",
    "\n",
    "# filter to get records post 22nd Jan\n",
    "returnDF = returnDF[returnDF['date_time'] >= '2020/01/22 00:00:00']\n",
    "returnDF = returnDF.sort_values(by='date_time', ascending = True)\n",
    "\n",
    "returnDF.head()"
   ]
  },
  {
   "cell_type": "code",
   "execution_count": null,
   "metadata": {},
   "outputs": [],
   "source": [
    "returnDF['week'] =  returnDF.date_time.dt.isocalendar().week\n",
    "returnDF.head()"
   ]
  },
  {
   "cell_type": "code",
   "execution_count": null,
   "metadata": {},
   "outputs": [],
   "source": [
    "groupDF = returnDF.groupby(by=['cup_id', 'week']).size().reset_index(name='occurrence_per_week')\n",
    "#groupDF.loc[groupDF['occurrence_per_week'] > 1, :]\n",
    "groupDF.head()"
   ]
  },
  {
   "cell_type": "code",
   "execution_count": null,
   "metadata": {},
   "outputs": [],
   "source": [
    "#groupDF.groupby(by='cup_id')['occurrence_per_week'].apply(list).reset_index(name='new')\n",
    "df = groupDF.pivot(index='cup_id', columns='week', values='occurrence_per_week').reset_index()\n",
    "df.columns.name = None\n",
    "df.head()"
   ]
  },
  {
   "cell_type": "code",
   "execution_count": null,
   "metadata": {},
   "outputs": [],
   "source": [
    "jsonObject = {}\n",
    "nodesArray = []\n",
    "linksArray = []\n",
    "\n",
    "populateNodes(df)\n",
    "\n",
    "populateLinks(df)"
   ]
  },
  {
   "cell_type": "code",
   "execution_count": null,
   "metadata": {},
   "outputs": [],
   "source": [
    "# sorting in descending order so that bigger arc widths dont obscure smaller arc widths\n",
    "linksArray = sorted(linksArray, key=lambda d: (-d['count']))"
   ]
  },
  {
   "cell_type": "code",
   "execution_count": null,
   "metadata": {},
   "outputs": [],
   "source": [
    "jsonObject['nodes'] = nodesArray\n",
    "jsonObject['links'] = linksArray\n",
    "\n",
    "with open('../data files/arcReturnData.json', 'w') as fp:\n",
    "    json.dump(jsonObject, fp, indent=4)"
   ]
  },
  {
   "cell_type": "code",
   "execution_count": null,
   "metadata": {},
   "outputs": [],
   "source": []
  },
  {
   "cell_type": "code",
   "execution_count": null,
   "metadata": {},
   "outputs": [],
   "source": []
  },
  {
   "cell_type": "code",
   "execution_count": null,
   "metadata": {},
   "outputs": [],
   "source": []
  }
 ],
 "metadata": {
  "kernelspec": {
   "display_name": "Python 3",
   "language": "python",
   "name": "python3"
  },
  "language_info": {
   "codemirror_mode": {
    "name": "ipython",
    "version": 3
   },
   "file_extension": ".py",
   "mimetype": "text/x-python",
   "name": "python",
   "nbconvert_exporter": "python",
   "pygments_lexer": "ipython3",
   "version": "3.8.5"
  }
 },
 "nbformat": 4,
 "nbformat_minor": 2
}
