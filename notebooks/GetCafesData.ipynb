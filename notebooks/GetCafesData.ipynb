{
 "cells": [
  {
   "cell_type": "markdown",
   "metadata": {},
   "source": [
    "# Get Cafes data\n",
    "\n",
    "Getting cafes data to be used in other notebooks such as Sale scan rates notebook."
   ]
  },
  {
   "cell_type": "code",
   "execution_count": 1,
   "metadata": {},
   "outputs": [],
   "source": [
    "from requests import get\n",
    "from pandas import DataFrame, read_csv\n",
    "from dotenv import load_dotenv\n",
    "from time import time\n",
    "import json, os"
   ]
  },
  {
   "cell_type": "markdown",
   "metadata": {},
   "source": [
    "### Check if data already exists"
   ]
  },
  {
   "cell_type": "code",
   "execution_count": 2,
   "metadata": {},
   "outputs": [
    {
     "name": "stdout",
     "output_type": "stream",
     "text": [
      "Existing cafes file found.\n"
     ]
    }
   ],
   "source": [
    "fetchCafesData = False\n",
    "\n",
    "if not os.path.exists(\"../data files/cafes.csv\"):\n",
    "    print('Existing cafes file not found. Have to fetch again...')\n",
    "    fetchCafesData = True\n",
    "else:\n",
    "    print('Existing cafes file found.')"
   ]
  },
  {
   "cell_type": "markdown",
   "metadata": {},
   "source": [
    "### If not exists, we fetch from the API"
   ]
  },
  {
   "cell_type": "code",
   "execution_count": 3,
   "metadata": {},
   "outputs": [],
   "source": [
    "cleanData = False\n",
    "\n",
    "if fetchCafesData:\n",
    "    load_dotenv()\n",
    "\n",
    "    domain = os.getenv(\"URL\")\n",
    "    \n",
    "    print('Getting Cafes data... Please wait!')\n",
    "    startTime = time()\n",
    "\n",
    "    # get cafes data\n",
    "    response = get('https://' + domain + 'cafe')\n",
    "    cafesData = response.json()\n",
    "\n",
    "    print('Took', round(time() - startTime, 2), 'seconds to get Cafes data.')\n",
    "    \n",
    "    print('Will now clean data...')\n",
    "    cleanData = True"
   ]
  },
  {
   "cell_type": "markdown",
   "metadata": {},
   "source": [
    "### Cleaning data if just fetched"
   ]
  },
  {
   "cell_type": "code",
   "execution_count": 4,
   "metadata": {},
   "outputs": [
    {
     "data": {
      "text/html": [
       "<div>\n",
       "<style scoped>\n",
       "    .dataframe tbody tr th:only-of-type {\n",
       "        vertical-align: middle;\n",
       "    }\n",
       "\n",
       "    .dataframe tbody tr th {\n",
       "        vertical-align: top;\n",
       "    }\n",
       "\n",
       "    .dataframe thead th {\n",
       "        text-align: right;\n",
       "    }\n",
       "</style>\n",
       "<table border=\"1\" class=\"dataframe\">\n",
       "  <thead>\n",
       "    <tr style=\"text-align: right;\">\n",
       "      <th></th>\n",
       "      <th>id</th>\n",
       "      <th>cafe_name</th>\n",
       "      <th>name</th>\n",
       "      <th>latitude</th>\n",
       "      <th>longitude</th>\n",
       "    </tr>\n",
       "  </thead>\n",
       "  <tbody>\n",
       "    <tr>\n",
       "      <th>0</th>\n",
       "      <td>101</td>\n",
       "      <td>Nesso Café</td>\n",
       "      <td>nesso</td>\n",
       "      <td>-37.913788</td>\n",
       "      <td>145.132773</td>\n",
       "    </tr>\n",
       "    <tr>\n",
       "      <th>1</th>\n",
       "      <td>102</td>\n",
       "      <td>Cafélito</td>\n",
       "      <td>cafelito</td>\n",
       "      <td>-37.913776</td>\n",
       "      <td>145.132642</td>\n",
       "    </tr>\n",
       "    <tr>\n",
       "      <th>2</th>\n",
       "      <td>103</td>\n",
       "      <td>Taste Baguette</td>\n",
       "      <td>taste</td>\n",
       "      <td>-37.912821</td>\n",
       "      <td>145.132588</td>\n",
       "    </tr>\n",
       "    <tr>\n",
       "      <th>3</th>\n",
       "      <td>104</td>\n",
       "      <td>Church of Secular Coffee</td>\n",
       "      <td>church</td>\n",
       "      <td>-37.911455</td>\n",
       "      <td>145.134340</td>\n",
       "    </tr>\n",
       "    <tr>\n",
       "      <th>4</th>\n",
       "      <td>105</td>\n",
       "      <td>Swift's</td>\n",
       "      <td>swifts</td>\n",
       "      <td>-37.912847</td>\n",
       "      <td>145.134145</td>\n",
       "    </tr>\n",
       "    <tr>\n",
       "      <th>5</th>\n",
       "      <td>106</td>\n",
       "      <td>Wholefoods</td>\n",
       "      <td>wholefoods</td>\n",
       "      <td>-37.911733</td>\n",
       "      <td>145.133268</td>\n",
       "    </tr>\n",
       "    <tr>\n",
       "      <th>6</th>\n",
       "      <td>107</td>\n",
       "      <td>Supernatural Eatery</td>\n",
       "      <td>supernatural</td>\n",
       "      <td>-37.911443</td>\n",
       "      <td>145.133277</td>\n",
       "    </tr>\n",
       "    <tr>\n",
       "      <th>7</th>\n",
       "      <td>108</td>\n",
       "      <td>Script @ Jazz Club</td>\n",
       "      <td>script</td>\n",
       "      <td>-37.913126</td>\n",
       "      <td>145.133653</td>\n",
       "    </tr>\n",
       "    <tr>\n",
       "      <th>8</th>\n",
       "      <td>109</td>\n",
       "      <td>Café Cinque Lire</td>\n",
       "      <td>cinque</td>\n",
       "      <td>-37.910371</td>\n",
       "      <td>145.129435</td>\n",
       "    </tr>\n",
       "  </tbody>\n",
       "</table>\n",
       "</div>"
      ],
      "text/plain": [
       "    id                 cafe_name          name   latitude   longitude\n",
       "0  101                Nesso Café         nesso -37.913788  145.132773\n",
       "1  102                  Cafélito      cafelito -37.913776  145.132642\n",
       "2  103            Taste Baguette         taste -37.912821  145.132588\n",
       "3  104  Church of Secular Coffee        church -37.911455  145.134340\n",
       "4  105                   Swift's        swifts -37.912847  145.134145\n",
       "5  106                Wholefoods    wholefoods -37.911733  145.133268\n",
       "6  107       Supernatural Eatery  supernatural -37.911443  145.133277\n",
       "7  108        Script @ Jazz Club        script -37.913126  145.133653\n",
       "8  109          Café Cinque Lire        cinque -37.910371  145.129435"
      ]
     },
     "execution_count": 4,
     "metadata": {},
     "output_type": "execute_result"
    }
   ],
   "source": [
    "if cleanData:\n",
    "    # build dataframe\n",
    "    cafesDF = DataFrame.from_dict(cafesData, orient='columns')\n",
    "    \n",
    "    # dropping columns\n",
    "    cafesDF = cafesDF.drop(['created_at', 'updated_at', 'created_at_melbourne_date_time', 'updated_at_melbourne_date_time'], axis=1)\n",
    "\n",
    "    # save csv\n",
    "    cafesDF.to_csv('../data files/cafes.csv', index = False)\n",
    "else:\n",
    "    cafesDF = read_csv('../data files/cafes.csv')\n",
    "cafesDF"
   ]
  },
  {
   "cell_type": "code",
   "execution_count": null,
   "metadata": {},
   "outputs": [],
   "source": []
  }
 ],
 "metadata": {
  "kernelspec": {
   "display_name": "Python 3",
   "language": "python",
   "name": "python3"
  },
  "language_info": {
   "codemirror_mode": {
    "name": "ipython",
    "version": 3
   },
   "file_extension": ".py",
   "mimetype": "text/x-python",
   "name": "python",
   "nbconvert_exporter": "python",
   "pygments_lexer": "ipython3",
   "version": "3.8.5"
  }
 },
 "nbformat": 4,
 "nbformat_minor": 2
}
