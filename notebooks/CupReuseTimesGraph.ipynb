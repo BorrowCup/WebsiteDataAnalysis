{
 "cells": [
  {
   "cell_type": "markdown",
   "metadata": {
    "colab_type": "text",
    "id": "h2tjNz80f-FP"
   },
   "source": [
    "Importing & reading in data"
   ]
  },
  {
   "cell_type": "code",
   "execution_count": 1,
   "metadata": {
    "colab": {},
    "colab_type": "code",
    "id": "YE4pv3HKEsBP"
   },
   "outputs": [
    {
     "ename": "ModuleNotFoundError",
     "evalue": "No module named 'matplotlib_venn'",
     "output_type": "error",
     "traceback": [
      "\u001b[0;31m---------------------------------------------------------------------------\u001b[0m",
      "\u001b[0;31mModuleNotFoundError\u001b[0m                       Traceback (most recent call last)",
      "\u001b[0;32m<ipython-input-1-4221f660177f>\u001b[0m in \u001b[0;36m<module>\u001b[0;34m\u001b[0m\n\u001b[1;32m      4\u001b[0m \u001b[0;32mimport\u001b[0m \u001b[0mnumpy\u001b[0m \u001b[0;32mas\u001b[0m \u001b[0mnp\u001b[0m\u001b[0;34m\u001b[0m\u001b[0;34m\u001b[0m\u001b[0m\n\u001b[1;32m      5\u001b[0m \u001b[0;32mimport\u001b[0m \u001b[0mmatplotlib\u001b[0m\u001b[0;34m.\u001b[0m\u001b[0mpyplot\u001b[0m \u001b[0;32mas\u001b[0m \u001b[0mplt\u001b[0m\u001b[0;34m\u001b[0m\u001b[0;34m\u001b[0m\u001b[0m\n\u001b[0;32m----> 6\u001b[0;31m \u001b[0;32mfrom\u001b[0m \u001b[0mmatplotlib_venn\u001b[0m \u001b[0;32mimport\u001b[0m \u001b[0mvenn2\u001b[0m\u001b[0;34m,\u001b[0m \u001b[0mvenn3\u001b[0m\u001b[0;34m\u001b[0m\u001b[0;34m\u001b[0m\u001b[0m\n\u001b[0m\u001b[1;32m      7\u001b[0m \u001b[0;32mfrom\u001b[0m \u001b[0mmath\u001b[0m \u001b[0;32mimport\u001b[0m \u001b[0mceil\u001b[0m\u001b[0;34m\u001b[0m\u001b[0;34m\u001b[0m\u001b[0m\n\u001b[1;32m      8\u001b[0m \u001b[0;32mfrom\u001b[0m \u001b[0mplotly\u001b[0m\u001b[0;34m.\u001b[0m\u001b[0mgraph_objects\u001b[0m \u001b[0;32mimport\u001b[0m \u001b[0mScatter\u001b[0m\u001b[0;34m\u001b[0m\u001b[0;34m\u001b[0m\u001b[0m\n",
      "\u001b[0;31mModuleNotFoundError\u001b[0m: No module named 'matplotlib_venn'"
     ]
    }
   ],
   "source": [
    "from requests import get\n",
    "from pandas import DataFrame, concat, to_datetime, to_timedelta, json_normalize, notna, isna\n",
    "from time import time\n",
    "import numpy as np\n",
    "import matplotlib.pyplot as plt\n",
    "from matplotlib_venn import venn2, venn3\n",
    "from math import ceil\n",
    "from plotly.graph_objects import Scatter\n",
    "import plotly.figure_factory as ff\n",
    "from plotly.express import colors\n",
    "from dotenv import load_dotenv\n",
    "from datetime import datetime\n",
    "from time import time\n",
    "import json, os"
   ]
  },
  {
   "cell_type": "code",
   "execution_count": null,
   "metadata": {},
   "outputs": [],
   "source": [
    "fetchSaleData = True\n",
    "fetchReturnData = True\n",
    "\n",
    "lastUpdatedInDays = 1"
   ]
  },
  {
   "cell_type": "code",
   "execution_count": null,
   "metadata": {},
   "outputs": [],
   "source": [
    "# current time\n",
    "currentTime = time()\n",
    "timeToCheckAgainst = datetime.fromtimestamp(currentTime - lastUpdatedInDays*24*60*60)\n",
    "\n",
    "if not os.path.exists('../data files'):\n",
    "    os.makedirs('../data files')\n",
    "\n",
    "print('Checking for sale data...')\n",
    "if os.path.exists(\"../data files/rawSaleData.json\"):\n",
    "    saleDataTime = datetime.fromtimestamp(os.path.getmtime('../data files/rawSaleData.json'))\n",
    "    print('Found sale data from:', saleDataTime.strftime('%c'))\n",
    "    \n",
    "    # if older than 'lastUpdatedInDays' days, fetch again\n",
    "    if saleDataTime <= timeToCheckAgainst:\n",
    "        print('Locally saved data is older than {} hours!'.format(lastUpdatedInDays*24))\n",
    "        print('Have to fetch again...')\n",
    "        fetchSaleData = True\n",
    "    else:\n",
    "        print('Will be using this locally saved data...')\n",
    "        fetchSaleData = False\n",
    "else:\n",
    "    print('No local data found!')\n",
    "    print('Have to fetch again...')\n",
    "    fetchSaleData = True\n",
    "\n",
    "print('Checking for return data...')\n",
    "if os.path.exists(\"../data files/rawReturnData.json\"):\n",
    "    returnDataTime = datetime.fromtimestamp(os.path.getmtime('../data files/rawReturnData.json'))\n",
    "    print('Found return data from:', returnDataTime.strftime('%c'))\n",
    "    \n",
    "    # if older than 'lastUpdatedInDays' days, fetch again\n",
    "    if returnDataTime <= timeToCheckAgainst:\n",
    "        print('Locally saved data is older than {} hours!'.format(lastUpdatedInDays*24))\n",
    "        print('Have to fetch again...')\n",
    "        fetchReturnData = True\n",
    "    else:\n",
    "        print('Will be using this locally saved data...')\n",
    "        fetchReturnData = False\n",
    "else:\n",
    "    print('No local data found!')\n",
    "    print('Have to fetch again...')\n",
    "    fetchReturnData = True"
   ]
  },
  {
   "cell_type": "code",
   "execution_count": null,
   "metadata": {},
   "outputs": [],
   "source": [
    "load_dotenv()\n",
    "\n",
    "domain = os.getenv(\"URL\")\n",
    "\n",
    "if fetchSaleData:\n",
    "    print('Getting Sale data... Please wait!')\n",
    "    startTime = time()\n",
    "\n",
    "    # get sale data\n",
    "    response = get('https://' + domain + 'sale')\n",
    "    saleData = response.json()\n",
    "\n",
    "    print('Took', round(time() - startTime, 2), 'seconds to get Sale data.')\n",
    "    \n",
    "    # save locally for later reuse\n",
    "    with open('../data files/rawSaleData.json', 'w') as fp:\n",
    "        json.dump(saleData, fp, indent=4)\n",
    "else:\n",
    "    # use locally saved data\n",
    "    with open('../data files/rawSaleData.json', 'r') as fp:\n",
    "        saleData = json.load(fp)"
   ]
  },
  {
   "cell_type": "code",
   "execution_count": null,
   "metadata": {
    "colab": {
     "base_uri": "https://localhost:8080/",
     "height": 52
    },
    "colab_type": "code",
    "id": "DvIhssY8gBgS",
    "outputId": "685a48c5-5655-4b30-89f3-10d18e74d2ea"
   },
   "outputs": [],
   "source": [
    "if fetchReturnData:\n",
    "    print('Getting Return data... Please wait!')\n",
    "    startTime = time()\n",
    "\n",
    "    # get return data\n",
    "    response = get('https://' + domain + 'return')\n",
    "    returnData = response.json()\n",
    "\n",
    "    print('Took', round(time() - startTime, 2), 'seconds to get Return data.')\n",
    "    \n",
    "    # save locally for later reuse\n",
    "    with open('../data files/rawReturnData.json', 'w') as fp:\n",
    "        json.dump(returnData, fp, indent=4)\n",
    "else:\n",
    "    # use locally saved data\n",
    "    with open('../data files/rawReturnData.json', 'r') as fp:\n",
    "        returnData = json.load(fp)"
   ]
  },
  {
   "cell_type": "markdown",
   "metadata": {
    "colab_type": "text",
    "id": "snhcc7ptgTCu"
   },
   "source": [
    "# Reading in & cleaning sales data"
   ]
  },
  {
   "cell_type": "code",
   "execution_count": null,
   "metadata": {
    "colab": {
     "base_uri": "https://localhost:8080/",
     "height": 202
    },
    "colab_type": "code",
    "id": "Bveb0JmhgUnz",
    "outputId": "87aa6284-2c84-42ed-d9d1-3e453bef791e"
   },
   "outputs": [],
   "source": [
    "# build dataframe\n",
    "saleDF = DataFrame.from_dict(saleData, orient='columns')\n",
    "\n",
    "# drop columns\n",
    "saleDF = saleDF.drop(['scanned_at', 'scanned_at_melbourne_date_time', 'return_id'], axis=1)\n",
    "\n",
    "# rename\n",
    "saleDF = saleDF.rename(columns={\"scanned_at_melbourne_date\": \"sale_date\", \"scanned_at_melbourne_time\": \"sale_time\", \"id\": \"sale_id\"})\n",
    "\n",
    "# merging date and time, converting new column to datetime64 datatype\n",
    "saleDF['date_time_concat'] = saleDF['sale_date'] + ' ' + saleDF['sale_time']\n",
    "saleDF['date_time'] = to_datetime(saleDF['date_time_concat'], dayfirst=True)\n",
    "saleDF = saleDF.drop(['sale_date', 'sale_time', 'date_time_concat'], axis=1)\n",
    "\n",
    "# filter to get records post 22nd Jan\n",
    "saleDF = saleDF[saleDF['date_time'] >= '2020/01/22 00:00:00']\n",
    "saleDF = saleDF.sort_values(by='date_time', ascending = True).reset_index(drop=True)\n",
    "\n",
    "saleDF.head()"
   ]
  },
  {
   "cell_type": "code",
   "execution_count": null,
   "metadata": {
    "colab": {
     "base_uri": "https://localhost:8080/",
     "height": 202
    },
    "colab_type": "code",
    "id": "bdMFM1wmfOod",
    "outputId": "b1cc2b3e-1249-44bb-800a-a30a36bcd6a2"
   },
   "outputs": [],
   "source": [
    "saleDF['week'] =  saleDF.date_time.dt.isocalendar().week\n",
    "saleDF.head()"
   ]
  },
  {
   "cell_type": "code",
   "execution_count": null,
   "metadata": {
    "colab": {
     "base_uri": "https://localhost:8080/",
     "height": 202
    },
    "colab_type": "code",
    "id": "TNzDNnvLgEqE",
    "outputId": "6094dd45-b1a8-4c9d-893d-149ca22f5ea7"
   },
   "outputs": [],
   "source": [
    "groupDF = saleDF.groupby(by=['cup_id', 'week']).size().reset_index(name='occurrence_per_week')\n",
    "#groupDF.loc[groupDF['occurrence_per_week'] > 1, :]\n",
    "groupDF.head()"
   ]
  },
  {
   "cell_type": "code",
   "execution_count": null,
   "metadata": {
    "colab": {
     "base_uri": "https://localhost:8080/",
     "height": 110
    },
    "colab_type": "code",
    "id": "nU-EjmVZ-FQS",
    "outputId": "b4a0105b-76b1-467d-b486-f820daff29a5"
   },
   "outputs": [],
   "source": [
    "cupsDF = groupDF.groupby('occurrence_per_week')['cup_id'].unique().reset_index()\n",
    "cupsDF"
   ]
  },
  {
   "cell_type": "code",
   "execution_count": null,
   "metadata": {
    "colab": {
     "base_uri": "https://localhost:8080/",
     "height": 251
    },
    "colab_type": "code",
    "id": "MeK10J2LAfqL",
    "outputId": "1c001d21-aeac-49d5-9dff-ec8d1360356f"
   },
   "outputs": [],
   "source": [
    "v = venn2([set(cupsDF.loc[cupsDF.occurrence_per_week == 1, 'cup_id'][0].tolist()), \n",
    "           set(cupsDF.loc[cupsDF.occurrence_per_week == 2, 'cup_id'][1].tolist())],\n",
    "          set_labels=('Once', 'Twice'),\n",
    "          set_colors=('cyan', 'green'),\n",
    "          alpha=0.5\n",
    "          )\n",
    "v.get_label_by_id('A').set_color('black')\n",
    "v.get_label_by_id('B').set_color('black')\n",
    "\n",
    "for text in v.set_labels:\n",
    "    text.set_fontsize(16)\n",
    "for text in v.subset_labels:\n",
    "    text.set_fontsize(16)\n",
    "\n",
    "plt.show()"
   ]
  },
  {
   "cell_type": "code",
   "execution_count": null,
   "metadata": {
    "colab": {
     "base_uri": "https://localhost:8080/",
     "height": 202
    },
    "colab_type": "code",
    "id": "1GCtxkh5xetT",
    "outputId": "075e827d-3687-46d6-ab97-90c7fce75079"
   },
   "outputs": [],
   "source": [
    "occurDF = groupDF.groupby(by=['cup_id', 'occurrence_per_week']).size().reset_index(name='num_weeks')\n",
    "occurDF = occurDF.pivot(index='cup_id', columns='occurrence_per_week', values='num_weeks')\n",
    "occurDF.columns.name = None\n",
    "occurDF = occurDF.reset_index().rename(columns={1: 'once', 2: 'twice'})\n",
    "occurDF.head()"
   ]
  },
  {
   "cell_type": "code",
   "execution_count": null,
   "metadata": {
    "colab": {
     "base_uri": "https://localhost:8080/",
     "height": 35
    },
    "colab_type": "code",
    "id": "xLTg2mJfyqNP",
    "outputId": "5931f61b-bb20-46e4-adab-210c4c21e6b4"
   },
   "outputs": [],
   "source": [
    "# get number of cups used once in any week\n",
    "once_only = len(occurDF[occurDF.twice.isna()])\n",
    "# get number of cups used twice in any week\n",
    "twice_only = len(occurDF[occurDF.once.isna()])\n",
    "# get number of cups used once or twice in any week\n",
    "once_or_twice = len(occurDF[occurDF.once.notna() & occurDF.twice.notna()])\n",
    "print(once_only, twice_only, once_or_twice)"
   ]
  },
  {
   "cell_type": "code",
   "execution_count": null,
   "metadata": {},
   "outputs": [],
   "source": [
    "# labels are set different to size to allow denote distinct counts within each group in the Venn diagram in d3.js\n",
    "jsonObject = {\n",
    "    'fromSale': [\n",
    "                    {'sets': ['Once'], 'size': once_only + once_or_twice, 'label': str(once_only)}, \n",
    "                    {'sets': ['Twice'], 'size': twice_only + once_or_twice, 'label': str(twice_only)},\n",
    "                    {'sets': ['Once','Twice'], 'size': once_or_twice, 'label': str(once_or_twice)}\n",
    "                ]\n",
    "}\n",
    "jsonObject['saleUnion'] = once_only + twice_only + once_or_twice\n",
    "jsonObject['saleCategories'] = ['Once', 'Twice']\n",
    "jsonObject"
   ]
  },
  {
   "cell_type": "code",
   "execution_count": null,
   "metadata": {
    "colab": {},
    "colab_type": "code",
    "id": "rJaLl4vGM_-H"
   },
   "outputs": [],
   "source": [
    "days = []\n",
    "for cup in saleDF.cup_id.unique():\n",
    "    temp = saleDF[saleDF.cup_id == cup]\n",
    "\n",
    "    if len(temp) > 1:\n",
    "        for i in range(len(temp)-1):\n",
    "            days.append((temp.iloc[i+1, 3] - temp.iloc[i, 3]) / to_timedelta(1, unit='D'))"
   ]
  },
  {
   "cell_type": "code",
   "execution_count": null,
   "metadata": {
    "colab": {
     "base_uri": "https://localhost:8080/",
     "height": 542
    },
    "colab_type": "code",
    "id": "KIhUKHKYOP7d",
    "outputId": "9fcc5ebc-fd98-49f1-d472-ca275b85a25e",
    "scrolled": false
   },
   "outputs": [],
   "source": [
    "# name of the dataset\n",
    "group_labels = ['Cups reuse time']\n",
    "\n",
    "fig = ff.create_distplot([np.array(days)], group_labels, show_rug=False, bin_size=1)\n",
    "fig.update_layout(xaxis=dict(range=[-1, ceil(max(days))+1]))\n",
    "\n",
    "fig.update_layout(\n",
    "    title=\"Histogram with probability density curve for cups reuse time (Bin size: 1 day)\",\n",
    "    xaxis_title=\"Duration in days\",\n",
    "    yaxis_title=\"Probability density\",\n",
    "    xaxis = dict(tickmode = 'linear')\n",
    "    )\n",
    "\n",
    "fig.update_traces(marker=dict(line=dict(width=1,\n",
    "                                        color='Black')),\n",
    "                  nbinsx=ceil(max(days)), \n",
    "                  autobinx=True, \n",
    "                  selector={'type':'histogram'}\n",
    "                  )\n",
    "\n",
    "counts, bins = np.histogram(days, bins=range(0, ceil(max(days)), 1))\n",
    "height = round(max(counts)/sum(counts),2)\n",
    "percents = [int(round(count/len(days)*100)) for count in counts]\n",
    "\n",
    "fig.add_trace(Scatter(\n",
    "    x=[ceil(max(days))],\n",
    "    y=[height],\n",
    "    mode=\"text\",\n",
    "    text='Total durations: {}'.format(len(days)),\n",
    "    textposition=\"top left\",\n",
    "    showlegend=False\n",
    "))\n",
    "\n",
    "fig.add_trace(Scatter(\n",
    "    x=np.arange(0.5, ceil(max(days)), 1),\n",
    "    y=[round(count/len(days),4)+0.005 for count in counts],\n",
    "    mode=\"text\",\n",
    "    text=[str(percent) for percent in percents],\n",
    "    textposition=\"top center\",\n",
    "    showlegend=False,\n",
    "    hoverinfo='skip'\n",
    "))\n",
    "\n",
    "\n",
    "fig.show()"
   ]
  },
  {
   "cell_type": "code",
   "execution_count": null,
   "metadata": {
    "colab": {
     "base_uri": "https://localhost:8080/",
     "height": 542
    },
    "colab_type": "code",
    "id": "YGys8c0wNBL4",
    "outputId": "96a04833-2659-44b8-9601-6a8ab94c1da0"
   },
   "outputs": [],
   "source": [
    "bin_days = 2\n",
    "\n",
    "# name of the dataset\n",
    "group_labels = ['Cups reuse time']\n",
    "\n",
    "fig = ff.create_distplot([np.array(days)], group_labels, show_rug=False, bin_size=bin_days)\n",
    "fig.update_layout(xaxis=dict(range=[-1, ceil(max(days))+1]))\n",
    "\n",
    "fig.update_layout(\n",
    "    title=\"Histogram with probability density curve for cups reuse time (Bin size: 2 days)\",\n",
    "    xaxis_title=\"Duration in days\",\n",
    "    yaxis_title=\"Probability density\",\n",
    "    xaxis = dict(tickmode = 'linear')\n",
    "    )\n",
    "\n",
    "fig.update_traces(marker=dict(line=dict(width=1,\n",
    "                                        color='Black')),\n",
    "                  nbinsx=ceil(max(days)/bin_days), \n",
    "                  autobinx=True, \n",
    "                  selector={'type':'histogram'}\n",
    "                  )\n",
    "\n",
    "counts, bins = np.histogram(days, bins=range(0, ceil(max(days))+1, bin_days))\n",
    "height = round(max(counts)/sum(counts),2)/bin_days\n",
    "percents = [int(round(count/len(days)*100)) for count in counts]\n",
    "\n",
    "fig.add_trace(Scatter(\n",
    "    x=[ceil(max(days))],\n",
    "    y=[height],\n",
    "    mode=\"text\",\n",
    "    text='Total durations: {}'.format(len(days)),\n",
    "    textposition=\"top left\",\n",
    "    showlegend=False\n",
    "))\n",
    "\n",
    "fig.add_trace(Scatter(\n",
    "    x=np.arange(1, ceil(max(days)), bin_days),\n",
    "    y=[round(count/len(days),4)/bin_days +0.005 for count in counts],\n",
    "    mode=\"text\",\n",
    "    text=[str(percent) + '%' for percent in percents],\n",
    "    textposition=\"top center\",\n",
    "    showlegend=False,\n",
    "    hoverinfo='skip'\n",
    "))\n",
    "\n",
    "\n",
    "fig.show()"
   ]
  },
  {
   "cell_type": "code",
   "execution_count": null,
   "metadata": {},
   "outputs": [],
   "source": [
    "for index in range(len(days)):\n",
    "    if days[index] > 30:\n",
    "        days[index] = 30.1"
   ]
  },
  {
   "cell_type": "code",
   "execution_count": null,
   "metadata": {},
   "outputs": [],
   "source": [
    "# name of the dataset\n",
    "group_labels = ['Cups reuse time']\n",
    "\n",
    "fig = ff.create_distplot([np.array(days)], group_labels, show_rug=False, bin_size=1)\n",
    "fig.update_layout(xaxis=dict(range=[-1, ceil(max(days))+1]))\n",
    "\n",
    "fig.update_layout(\n",
    "    title=\"Histogram with probability density curve for cups reuse time (Bin size: 1 day)\",\n",
    "    xaxis_title=\"Duration in days\",\n",
    "    yaxis_title=\"Probability density\",\n",
    "    xaxis = dict(tickmode = 'linear')\n",
    "    )\n",
    "\n",
    "fig.update_traces(marker=dict(line=dict(width=1,\n",
    "                                        color='Black')),\n",
    "                  nbinsx=ceil(max(days)), \n",
    "                  autobinx=True, \n",
    "                  selector={'type':'histogram'}\n",
    "                  )\n",
    "\n",
    "counts, bins = np.histogram(days, bins=range(0, ceil(max(days)), 1))\n",
    "height = round(max(counts)/sum(counts),2)\n",
    "percents = [int(round(count/len(days)*100)) for count in counts]\n",
    "\n",
    "fig.add_trace(Scatter(\n",
    "    x=[ceil(max(days))],\n",
    "    y=[height],\n",
    "    mode=\"text\",\n",
    "    text='Total durations: {}'.format(len(days)),\n",
    "    textposition=\"top left\",\n",
    "    showlegend=False\n",
    "))\n",
    "\n",
    "fig.add_trace(Scatter(\n",
    "    x=np.arange(0.5, ceil(max(days)), 1),\n",
    "    y=[round(count/len(days),4)+0.005 for count in counts],\n",
    "    mode=\"text\",\n",
    "    text=[str(percent) for percent in percents],\n",
    "    textposition=\"top center\",\n",
    "    showlegend=False,\n",
    "    hoverinfo='skip'\n",
    "))\n",
    "\n",
    "\n",
    "fig.show()"
   ]
  },
  {
   "cell_type": "code",
   "execution_count": null,
   "metadata": {},
   "outputs": [],
   "source": [
    "bin_days = 2\n",
    "\n",
    "# name of the dataset\n",
    "group_labels = ['Cups reuse time']\n",
    "\n",
    "fig = ff.create_distplot([np.array(days)], group_labels, show_rug=False, bin_size=bin_days)\n",
    "fig.update_layout(xaxis=dict(range=[-1, ceil(max(days))+1]))\n",
    "\n",
    "fig.update_layout(\n",
    "    title=\"Histogram with probability density curve for cups reuse time (Bin size: 2 days)\",\n",
    "    xaxis_title=\"Duration in days\",\n",
    "    yaxis_title=\"Probability density\",\n",
    "    xaxis = dict(tickmode = 'linear')\n",
    "    )\n",
    "\n",
    "fig.update_traces(marker=dict(line=dict(width=1,\n",
    "                                        color='Black')),\n",
    "                  nbinsx=ceil(max(days)/bin_days), \n",
    "                  autobinx=True, \n",
    "                  selector={'type':'histogram'}\n",
    "                  )\n",
    "\n",
    "counts, bins = np.histogram(days, bins=range(0, ceil(max(days))+1, bin_days))\n",
    "height = round(max(counts)/sum(counts),2)/bin_days\n",
    "percents = [int(round(count/len(days)*100)) for count in counts]\n",
    "\n",
    "fig.add_trace(Scatter(\n",
    "    x=[ceil(max(days))],\n",
    "    y=[height],\n",
    "    mode=\"text\",\n",
    "    text='Total durations: {}'.format(len(days)),\n",
    "    textposition=\"top left\",\n",
    "    showlegend=False\n",
    "))\n",
    "\n",
    "fig.add_trace(Scatter(\n",
    "    x=np.arange(1, ceil(max(days)), bin_days),\n",
    "    y=[round(count/len(days),4)/bin_days +0.005 for count in counts],\n",
    "    mode=\"text\",\n",
    "    text=[str(percent) + '%' for percent in percents],\n",
    "    textposition=\"top center\",\n",
    "    showlegend=False,\n",
    "    hoverinfo='skip'\n",
    "))\n",
    "\n",
    "\n",
    "fig.show()"
   ]
  },
  {
   "cell_type": "code",
   "execution_count": null,
   "metadata": {},
   "outputs": [],
   "source": [
    "days.sort()\n",
    "saleFrame = DataFrame({'duration': days})\n",
    "saleFrame.to_csv('../data files/reuseDurationsFromSale.csv', index = False)\n",
    "saleFrame.head()"
   ]
  },
  {
   "cell_type": "markdown",
   "metadata": {
    "colab_type": "text",
    "id": "spIMCtUtJrTH"
   },
   "source": [
    "# Reading and cleaning Return Data"
   ]
  },
  {
   "cell_type": "code",
   "execution_count": null,
   "metadata": {
    "colab": {
     "base_uri": "https://localhost:8080/",
     "height": 202
    },
    "colab_type": "code",
    "id": "NlbAQNHk9HII",
    "outputId": "368fe3be-9228-4fff-c732-5a0f34e34775"
   },
   "outputs": [],
   "source": [
    "# build dataframe\n",
    "returnDF = DataFrame.from_dict(json_normalize(returnData), orient='columns')\n",
    "\n",
    "# dropping columns \n",
    "returnDF = returnDF.drop(['scanned_at', 'bin_id', 'cafe_id', 'dishwasher_id', 'id'], axis=1)\n",
    "\n",
    "# renaming columns\n",
    "returnDF = returnDF.rename(columns={\"scanned_at_melbourne_date_time.date\": \"return_date\", \"scanned_at_melbourne_date_time.time\": \"return_time\"})\n",
    "\n",
    "# merging date and time, converting new column to datetime64 datatype\n",
    "returnDF['date_time_concat'] = returnDF['return_date'] + ' ' + returnDF['return_time']\n",
    "returnDF['date_time'] = to_datetime(returnDF['date_time_concat'], dayfirst=True)\n",
    "returnDF = returnDF.drop(['return_date', 'return_time', 'date_time_concat'], axis=1)\n",
    "\n",
    "# filter to get records post 22nd Jan\n",
    "returnDF = returnDF[returnDF['date_time'] >= '2020/01/22 00:00:00']\n",
    "returnDF = returnDF.sort_values(by='date_time', ascending = True)\n",
    "\n",
    "returnDF.head()"
   ]
  },
  {
   "cell_type": "code",
   "execution_count": null,
   "metadata": {
    "colab": {
     "base_uri": "https://localhost:8080/",
     "height": 202
    },
    "colab_type": "code",
    "id": "dPdaM5UEIsnm",
    "outputId": "c32f00a9-53fc-43d2-f18e-73f660114cab"
   },
   "outputs": [],
   "source": [
    "returnDF['week'] =  returnDF.date_time.dt.isocalendar().week\n",
    "returnDF.head()"
   ]
  },
  {
   "cell_type": "code",
   "execution_count": null,
   "metadata": {
    "colab": {
     "base_uri": "https://localhost:8080/",
     "height": 202
    },
    "colab_type": "code",
    "id": "G1Wqhdj5I48L",
    "outputId": "f4a50482-5349-4c6e-ccd5-554d4c231259"
   },
   "outputs": [],
   "source": [
    "groupDF = returnDF.groupby(by=['cup_id', 'week']).size().reset_index(name='occurrence_per_week')\n",
    "#groupDF.loc[groupDF['occurrence_per_week'] > 1, :]\n",
    "groupDF.head()"
   ]
  },
  {
   "cell_type": "code",
   "execution_count": null,
   "metadata": {
    "colab": {
     "base_uri": "https://localhost:8080/",
     "height": 141
    },
    "colab_type": "code",
    "id": "t2KiVoH4I5DO",
    "outputId": "a39f4dbf-563b-400b-d9cf-ab9b180de9dd"
   },
   "outputs": [],
   "source": [
    "cupsDF = groupDF.groupby('occurrence_per_week')['cup_id'].unique().reset_index()\n",
    "cupsDF"
   ]
  },
  {
   "cell_type": "code",
   "execution_count": null,
   "metadata": {
    "colab": {},
    "colab_type": "code",
    "id": "1_b20sLREaj8"
   },
   "outputs": [],
   "source": [
    "a = set(cupsDF.loc[cupsDF.occurrence_per_week == 1, 'cup_id'][0].tolist())\n",
    "b = set(cupsDF.loc[cupsDF.occurrence_per_week == 2, 'cup_id'][1].tolist())\n",
    "c = set(cupsDF.loc[cupsDF.occurrence_per_week == 3, 'cup_id'][2].tolist())\n",
    "\n",
    "once = len(a)\n",
    "twice = len(b)\n",
    "thrice = len(c)\n",
    "\n",
    "once_only = len(a - b - c)\n",
    "twice_only = len(b - a - c)\n",
    "thrice_only = len(c - a - b)\n",
    "\n",
    "once_twice = len(a.intersection(b))\n",
    "twice_thrice = len(b.intersection(c))\n",
    "once_thrice = len(a.intersection(c))\n",
    "\n",
    "once_twice_thrice = len(a.intersection(b).intersection(c))"
   ]
  },
  {
   "cell_type": "code",
   "execution_count": null,
   "metadata": {
    "colab": {
     "base_uri": "https://localhost:8080/",
     "height": 248
    },
    "colab_type": "code",
    "id": "Jf3FVPcbOUq0",
    "outputId": "6745edea-2087-4b80-ad97-b026b567e0bf"
   },
   "outputs": [],
   "source": [
    "v = venn3(subsets=(once_only, twice_only, once_twice, thrice_only, once_thrice, twice_thrice, once_twice_thrice),\n",
    "      set_labels=('Once', 'Twice', 'Thrice'),\n",
    "      alpha=0.5\n",
    "      )\n",
    "v.get_label_by_id('A').set_color('black')\n",
    "v.get_label_by_id('B').set_color('black')\n",
    "v.get_label_by_id('C').set_color('black')\n",
    "\n",
    "for text in v.set_labels:\n",
    "    text.set_fontsize(16)\n",
    "#for text in v.subset_labels:\n",
    "#    text.set_fontsize(16)\n",
    "\n",
    "plt.show()"
   ]
  },
  {
   "cell_type": "code",
   "execution_count": null,
   "metadata": {},
   "outputs": [],
   "source": [
    "# labels are set different to size to allow denote distinct counts within each group in the Venn diagram in d3.js\n",
    "jsonObject['fromReturn'] = [\n",
    "                                {'sets': ['Once'], 'size': once, 'label': str(once_only)}, \n",
    "                                {'sets': ['Twice'], 'size': twice, 'label': str(twice_only)},\n",
    "                                {'sets': ['Thrice'], 'size': thrice, 'label': str(thrice_only)},\n",
    "                                {'sets': ['Once','Twice'], 'size': once_twice, 'label': str(once_twice)},\n",
    "                                {'sets': ['Twice', 'Thrice'], 'size': twice_thrice, 'label': str(twice_thrice)},\n",
    "                                {'sets': ['Once','Thrice'], 'size': once_thrice, 'label': str(once_thrice)},\n",
    "                                {'sets': ['Once','Twice', 'Thrice'], 'size': once_twice_thrice, 'label': str(once_twice_thrice)}\n",
    "                            ]\n",
    "jsonObject['returnUnion'] = once + twice + thrice - once_twice - twice_thrice - once_thrice + once_twice_thrice\n",
    "jsonObject['returnCategories'] = ['Once', 'Twice', 'Thrice']\n",
    "\n",
    "with open('../data files/reusePerWeekNumbers.json', 'w') as fp:\n",
    "    json.dump(jsonObject, fp, indent=4)\n",
    "    \n",
    "jsonObject"
   ]
  },
  {
   "cell_type": "code",
   "execution_count": null,
   "metadata": {
    "colab": {},
    "colab_type": "code",
    "id": "N1botgxwPMeF"
   },
   "outputs": [],
   "source": [
    "days = []\n",
    "for cup in returnDF.cup_id.unique():\n",
    "    temp = returnDF[returnDF.cup_id == cup]\n",
    "\n",
    "    if len(temp) > 1:\n",
    "        for i in range(len(temp)-1):\n",
    "            days.append((temp.iloc[i+1, 1] - temp.iloc[i, 1]) / to_timedelta(1, unit='D'))"
   ]
  },
  {
   "cell_type": "code",
   "execution_count": null,
   "metadata": {
    "colab": {
     "base_uri": "https://localhost:8080/",
     "height": 542
    },
    "colab_type": "code",
    "id": "e-gQ7rj6N_mF",
    "outputId": "a4c50905-0974-485d-eb39-a725835c18db"
   },
   "outputs": [],
   "source": [
    "# name of the dataset\n",
    "group_labels = ['Cups reuse time']\n",
    "\n",
    "fig = ff.create_distplot([np.array(days)], group_labels, show_rug=False, bin_size=1)\n",
    "fig.update_layout(xaxis=dict(range=[-1, ceil(max(days))+1]))\n",
    "\n",
    "fig.update_layout(\n",
    "    title=\"Histogram with probability density curve for cups reuse time\",\n",
    "    xaxis_title=\"Duration in days\",\n",
    "    yaxis_title=\"Probability density\",\n",
    "    xaxis = dict(tickmode = 'linear')\n",
    "    )\n",
    "\n",
    "fig.update_traces(marker=dict(line=dict(width=1,\n",
    "                                        color='Black')),\n",
    "                  nbinsx=ceil(max(days)), \n",
    "                  autobinx=True, \n",
    "                  selector={'type':'histogram'}\n",
    "                  )\n",
    "\n",
    "counts, bins = np.histogram(days, bins=range(0, ceil(max(days)), 1))\n",
    "height = round(max(counts)/sum(counts),2)\n",
    "percents = [int(round(count/len(days)*100)) for count in counts]\n",
    "\n",
    "fig.add_trace(Scatter(\n",
    "    x=[ceil(max(days))],\n",
    "    y=[height],\n",
    "    mode=\"text\",\n",
    "    text='Total durations: {}'.format(len(days)),\n",
    "    textposition=\"top left\",\n",
    "    showlegend=False\n",
    "))\n",
    "\n",
    "fig.add_trace(Scatter(\n",
    "    x=np.arange(0.5, ceil(max(days)), 1),\n",
    "    y=[round(count/len(days),4)+0.005 for count in counts],\n",
    "    mode=\"text\",\n",
    "    text=[str(percent) for percent in percents],\n",
    "    textposition=\"top center\",\n",
    "    showlegend=False,\n",
    "    hoverinfo='skip'\n",
    "))\n",
    "\n",
    "\n",
    "fig.show()"
   ]
  },
  {
   "cell_type": "code",
   "execution_count": null,
   "metadata": {},
   "outputs": [],
   "source": [
    "for index in range(len(days)):\n",
    "    if days[index] > 30:\n",
    "        days[index] = 30.1"
   ]
  },
  {
   "cell_type": "code",
   "execution_count": null,
   "metadata": {},
   "outputs": [],
   "source": [
    "# name of the dataset\n",
    "group_labels = ['Cups reuse time']\n",
    "\n",
    "fig = ff.create_distplot([np.array(days)], group_labels, show_rug=False, bin_size=1)\n",
    "fig.update_layout(xaxis=dict(range=[-1, ceil(max(days))+1]))\n",
    "\n",
    "fig.update_layout(\n",
    "    title=\"Histogram with probability density curve for cups reuse time\",\n",
    "    xaxis_title=\"Duration in days\",\n",
    "    yaxis_title=\"Probability density\",\n",
    "    xaxis = dict(tickmode = 'linear')\n",
    "    )\n",
    "\n",
    "fig.update_traces(marker=dict(line=dict(width=1,\n",
    "                                        color='Black')),\n",
    "                  nbinsx=ceil(max(days)), \n",
    "                  autobinx=True, \n",
    "                  selector={'type':'histogram'}\n",
    "                  )\n",
    "\n",
    "counts, bins = np.histogram(days, bins=range(0, ceil(max(days)), 1))\n",
    "height = round(max(counts)/sum(counts),2)\n",
    "percents = [int(round(count/len(days)*100)) for count in counts]\n",
    "\n",
    "fig.add_trace(Scatter(\n",
    "    x=[ceil(max(days))],\n",
    "    y=[height],\n",
    "    mode=\"text\",\n",
    "    text='Total durations: {}'.format(len(days)),\n",
    "    textposition=\"top left\",\n",
    "    showlegend=False\n",
    "))\n",
    "\n",
    "fig.add_trace(Scatter(\n",
    "    x=np.arange(0.5, ceil(max(days)), 1),\n",
    "    y=[round(count/len(days),4)+0.005 for count in counts],\n",
    "    mode=\"text\",\n",
    "    text=[str(percent) for percent in percents],\n",
    "    textposition=\"top center\",\n",
    "    showlegend=False,\n",
    "    hoverinfo='skip'\n",
    "))\n",
    "\n",
    "\n",
    "fig.show()"
   ]
  },
  {
   "cell_type": "code",
   "execution_count": null,
   "metadata": {},
   "outputs": [],
   "source": [
    "days.sort()\n",
    "returnFrame = DataFrame({'duration': days})\n",
    "returnFrame.to_csv('../data files/reuseDurationsFromReturn.csv', index = False)\n",
    "returnFrame.head()"
   ]
  },
  {
   "cell_type": "code",
   "execution_count": null,
   "metadata": {},
   "outputs": [],
   "source": []
  }
 ],
 "metadata": {
  "colab": {
   "collapsed_sections": [],
   "name": "CupReuseTimesGraph.ipynb",
   "provenance": []
  },
  "kernelspec": {
   "display_name": "Python 3",
   "language": "python",
   "name": "python3"
  },
  "language_info": {
   "codemirror_mode": {
    "name": "ipython",
    "version": 3
   },
   "file_extension": ".py",
   "mimetype": "text/x-python",
   "name": "python",
   "nbconvert_exporter": "python",
   "pygments_lexer": "ipython3",
   "version": "3.8.5"
  }
 },
 "nbformat": 4,
 "nbformat_minor": 1
}
