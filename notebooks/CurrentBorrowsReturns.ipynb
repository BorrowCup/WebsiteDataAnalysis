{
 "cells": [
  {
   "cell_type": "code",
   "execution_count": 36,
   "metadata": {},
   "outputs": [],
   "source": [
    "from requests import get\n",
    "from pandas import DataFrame, concat, to_datetime, Timedelta, json_normalize\n",
    "from time import time\n",
    "#import numpy as np\n",
    "#from seaborn import set, distplot\n",
    "#import matplotlib.pyplot as plt\n",
    "#from math import ceil\n",
    "from plotly.graph_objects import Scatter\n",
    "import plotly.figure_factory as ff\n",
    "from plotly.express import colors\n",
    "from dotenv import load_dotenv\n",
    "from datetime import datetime\n",
    "from time import time\n",
    "import json, os"
   ]
  },
  {
   "cell_type": "code",
   "execution_count": 37,
   "metadata": {},
   "outputs": [],
   "source": [
    "fetchCupData = True\n",
    "\n",
    "lastUpdatedInDays = 60"
   ]
  },
  {
   "cell_type": "code",
   "execution_count": 38,
   "metadata": {},
   "outputs": [
    {
     "name": "stdout",
     "output_type": "stream",
     "text": [
      "Checking for cup data...\n",
      "Found cup data from: Wed Nov  4 01:17:45 2020\n",
      "Will be using this locally saved data...\n"
     ]
    }
   ],
   "source": [
    "# current time\n",
    "currentTime = time()\n",
    "timeToCheckAgainst = datetime.fromtimestamp(currentTime - lastUpdatedInDays*24*60*60)\n",
    "\n",
    "if not os.path.exists('../data files'):\n",
    "    os.makedirs('../data files')\n",
    "\n",
    "print('Checking for cup data...')\n",
    "if os.path.exists(\"../data files/rawCupData.json\"):\n",
    "    cupDataTime = datetime.fromtimestamp(os.path.getmtime('../data files/rawCupData.json'))\n",
    "    print('Found cup data from:', cupDataTime.strftime('%c'))\n",
    "    \n",
    "    # if older than 'lastUpdatedInDays' days, fetch again\n",
    "    if cupDataTime <= timeToCheckAgainst:\n",
    "        print('Locally saved data is older than {} hours!'.format(lastUpdatedInDays*24))\n",
    "        print('Have to fetch again...')\n",
    "        fetchCupData = True\n",
    "    else:\n",
    "        print('Will be using this locally saved data...')\n",
    "        fetchCupData = False\n",
    "else:\n",
    "    print('No local data found!')\n",
    "    print('Have to fetch again...')\n",
    "    fetchCupData = True"
   ]
  },
  {
   "cell_type": "code",
   "execution_count": 39,
   "metadata": {},
   "outputs": [],
   "source": [
    "load_dotenv()\n",
    "\n",
    "domain = os.getenv(\"URL\")\n",
    "\n",
    "if fetchCupData:\n",
    "    print('Getting Cup data... Please wait!')\n",
    "    startTime = time()\n",
    "\n",
    "    # get cup data\n",
    "    response = get('https://' + domain + 'cup')\n",
    "    cupData = response.json()\n",
    "\n",
    "    print('Took', round(time() - startTime, 2), 'seconds to get Cup data.')\n",
    "    \n",
    "    # save locally for later reuse\n",
    "    with open('../data files/rawCupData.json', 'w') as fp:\n",
    "        json.dump(cupData, fp, indent=4)\n",
    "else:\n",
    "    # use locally saved data\n",
    "    with open('../data files/rawCupData.json', 'r') as fp:\n",
    "        cupData = json.load(fp)"
   ]
  },
  {
   "cell_type": "code",
   "execution_count": 40,
   "metadata": {},
   "outputs": [
    {
     "data": {
      "text/html": [
       "<div>\n",
       "<style scoped>\n",
       "    .dataframe tbody tr th:only-of-type {\n",
       "        vertical-align: middle;\n",
       "    }\n",
       "\n",
       "    .dataframe tbody tr th {\n",
       "        vertical-align: top;\n",
       "    }\n",
       "\n",
       "    .dataframe thead th {\n",
       "        text-align: right;\n",
       "    }\n",
       "</style>\n",
       "<table border=\"1\" class=\"dataframe\">\n",
       "  <thead>\n",
       "    <tr style=\"text-align: right;\">\n",
       "      <th></th>\n",
       "      <th>status</th>\n",
       "      <th>count</th>\n",
       "    </tr>\n",
       "  </thead>\n",
       "  <tbody>\n",
       "    <tr>\n",
       "      <th>0</th>\n",
       "      <td>B</td>\n",
       "      <td>828</td>\n",
       "    </tr>\n",
       "    <tr>\n",
       "      <th>1</th>\n",
       "      <td>R</td>\n",
       "      <td>4985</td>\n",
       "    </tr>\n",
       "  </tbody>\n",
       "</table>\n",
       "</div>"
      ],
      "text/plain": [
       "  status  count\n",
       "0      B    828\n",
       "1      R   4985"
      ]
     },
     "execution_count": 40,
     "metadata": {},
     "output_type": "execute_result"
    }
   ],
   "source": [
    "cupDF = DataFrame.from_dict(cupData, orient='columns')\n",
    "cupDF = cupDF.drop(['size', 'updated_at', 'created_at_melbourne_date_time', 'updated_at_melbourne_date_time'], axis = 1)\n",
    "df = cupDF.groupby('status').size().reset_index(name='count')\n",
    "df"
   ]
  },
  {
   "cell_type": "code",
   "execution_count": 46,
   "metadata": {},
   "outputs": [
    {
     "data": {
      "text/plain": [
       "{'borrows': 828, 'returns': 4985, 'total': 5813}"
      ]
     },
     "execution_count": 46,
     "metadata": {},
     "output_type": "execute_result"
    }
   ],
   "source": [
    "jsonObject = {\n",
    "    \"borrows\": int(df.loc[df['status'] == 'B', 'count'].values[0]),\n",
    "    \"returns\": int(df.loc[df['status'] == 'R', 'count'].values[0]),\n",
    "    \"total\": int(df['count'].sum())\n",
    "}\n",
    "with open('../data files/borrowReturnCounts.json', 'w') as fp:\n",
    "    json.dump(jsonObject, fp, indent=4)\n",
    "jsonObject"
   ]
  },
  {
   "cell_type": "code",
   "execution_count": null,
   "metadata": {},
   "outputs": [],
   "source": []
  }
 ],
 "metadata": {
  "kernelspec": {
   "display_name": "Python 3",
   "language": "python",
   "name": "python3"
  },
  "language_info": {
   "codemirror_mode": {
    "name": "ipython",
    "version": 3
   },
   "file_extension": ".py",
   "mimetype": "text/x-python",
   "name": "python",
   "nbconvert_exporter": "python",
   "pygments_lexer": "ipython3",
   "version": "3.7.4"
  }
 },
 "nbformat": 4,
 "nbformat_minor": 2
}
